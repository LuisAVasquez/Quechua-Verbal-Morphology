{
 "cells": [
  {
   "attachments": {},
   "cell_type": "markdown",
   "metadata": {},
   "source": [
    "# Get all verbal lemmas for Quechua in CONLL 2017"
   ]
  },
  {
   "cell_type": "code",
   "execution_count": 1,
   "metadata": {},
   "outputs": [],
   "source": [
    "import pandas as pd"
   ]
  },
  {
   "cell_type": "code",
   "execution_count": 2,
   "metadata": {},
   "outputs": [],
   "source": [
    "quechua_dev_path = \"quechua-dev\""
   ]
  },
  {
   "cell_type": "code",
   "execution_count": 3,
   "metadata": {},
   "outputs": [],
   "source": [
    "quechua_dev = pd.read_csv(quechua_dev_path, header=None, sep= \"\\t\")"
   ]
  },
  {
   "cell_type": "code",
   "execution_count": 4,
   "metadata": {},
   "outputs": [
    {
     "data": {
      "text/plain": [
       "Int64Index([0, 1, 2], dtype='int64')"
      ]
     },
     "execution_count": 4,
     "metadata": {},
     "output_type": "execute_result"
    }
   ],
   "source": [
    "quechua_dev.columns"
   ]
  },
  {
   "cell_type": "code",
   "execution_count": 5,
   "metadata": {},
   "outputs": [
    {
     "data": {
      "text/plain": [
       "0          N;PSS2P;NOM;PL\n",
       "1          N;PSS1S;ACC;SG\n",
       "2         N;PSS1PE;ABL;SG\n",
       "3          N;PSS2P;NOM;PL\n",
       "4          N;PSS3P;NOM;SG\n",
       "              ...        \n",
       "995      N;PSS1S;EXCLV;SG\n",
       "996            V;PRS;3;PL\n",
       "997            N;COMPV;SG\n",
       "998    ADJ;PSS3S;COMPV;PL\n",
       "999      N;PSS2S;EXCLV;PL\n",
       "Name: 2, Length: 1000, dtype: object"
      ]
     },
     "execution_count": 5,
     "metadata": {},
     "output_type": "execute_result"
    }
   ],
   "source": [
    "# what is inside the third column? The tags!\n",
    "quechua_dev[2] "
   ]
  },
  {
   "cell_type": "code",
   "execution_count": 6,
   "metadata": {},
   "outputs": [],
   "source": [
    "# keep only the verbal lemmas!\n",
    "# They have the tag \"V\" in their tagset"
   ]
  },
  {
   "cell_type": "code",
   "execution_count": 7,
   "metadata": {},
   "outputs": [],
   "source": [
    "verbs_index = quechua_dev[2].apply(lambda st: st.startswith(\"V;\"))"
   ]
  },
  {
   "cell_type": "code",
   "execution_count": 8,
   "metadata": {},
   "outputs": [
    {
     "data": {
      "text/html": [
       "<div>\n",
       "<style scoped>\n",
       "    .dataframe tbody tr th:only-of-type {\n",
       "        vertical-align: middle;\n",
       "    }\n",
       "\n",
       "    .dataframe tbody tr th {\n",
       "        vertical-align: top;\n",
       "    }\n",
       "\n",
       "    .dataframe thead th {\n",
       "        text-align: right;\n",
       "    }\n",
       "</style>\n",
       "<table border=\"1\" class=\"dataframe\">\n",
       "  <thead>\n",
       "    <tr style=\"text-align: right;\">\n",
       "      <th></th>\n",
       "      <th>0</th>\n",
       "      <th>1</th>\n",
       "      <th>2</th>\n",
       "    </tr>\n",
       "  </thead>\n",
       "  <tbody>\n",
       "    <tr>\n",
       "      <th>6</th>\n",
       "      <td>hunt'ay</td>\n",
       "      <td>hunt'aychik</td>\n",
       "      <td>V;IMP;POS;2;PL</td>\n",
       "    </tr>\n",
       "    <tr>\n",
       "      <th>12</th>\n",
       "      <td>tiyamuy</td>\n",
       "      <td>tiyamuq</td>\n",
       "      <td>V;NFIN;AGT</td>\n",
       "    </tr>\n",
       "    <tr>\n",
       "      <th>15</th>\n",
       "      <td>t'ustuy</td>\n",
       "      <td>t'ustuychik</td>\n",
       "      <td>V;IMP;POS;2;PL</td>\n",
       "    </tr>\n",
       "    <tr>\n",
       "      <th>16</th>\n",
       "      <td>ch'isiyay</td>\n",
       "      <td>ch'isiyarqanku</td>\n",
       "      <td>V;PST;FH;3;PL</td>\n",
       "    </tr>\n",
       "    <tr>\n",
       "      <th>33</th>\n",
       "      <td>pisipay</td>\n",
       "      <td>pisipanqa</td>\n",
       "      <td>V;FUT;3;SG</td>\n",
       "    </tr>\n",
       "    <tr>\n",
       "      <th>...</th>\n",
       "      <td>...</td>\n",
       "      <td>...</td>\n",
       "      <td>...</td>\n",
       "    </tr>\n",
       "    <tr>\n",
       "      <th>960</th>\n",
       "      <td>ch'ipchiy</td>\n",
       "      <td>ch'ipchisqanki</td>\n",
       "      <td>V;PST;NFH;2;SG</td>\n",
       "    </tr>\n",
       "    <tr>\n",
       "      <th>981</th>\n",
       "      <td>hayratachiy</td>\n",
       "      <td>amahayratachiychu</td>\n",
       "      <td>V;IMP;NEG;2;SG</td>\n",
       "    </tr>\n",
       "    <tr>\n",
       "      <th>986</th>\n",
       "      <td>ch'isiyay</td>\n",
       "      <td>ch'isiyanqa</td>\n",
       "      <td>V;FUT;3;SG</td>\n",
       "    </tr>\n",
       "    <tr>\n",
       "      <th>988</th>\n",
       "      <td>anchaykachay</td>\n",
       "      <td>anchaykacharqaniku</td>\n",
       "      <td>V;PST;FH;1+EXCL;PL</td>\n",
       "    </tr>\n",
       "    <tr>\n",
       "      <th>996</th>\n",
       "      <td>rimay</td>\n",
       "      <td>rimanku</td>\n",
       "      <td>V;PRS;3;PL</td>\n",
       "    </tr>\n",
       "  </tbody>\n",
       "</table>\n",
       "<p>144 rows × 3 columns</p>\n",
       "</div>"
      ],
      "text/plain": [
       "                0                   1                   2\n",
       "6         hunt'ay         hunt'aychik      V;IMP;POS;2;PL\n",
       "12        tiyamuy             tiyamuq          V;NFIN;AGT\n",
       "15        t'ustuy         t'ustuychik      V;IMP;POS;2;PL\n",
       "16      ch'isiyay      ch'isiyarqanku       V;PST;FH;3;PL\n",
       "33        pisipay           pisipanqa          V;FUT;3;SG\n",
       "..            ...                 ...                 ...\n",
       "960     ch'ipchiy      ch'ipchisqanki      V;PST;NFH;2;SG\n",
       "981   hayratachiy   amahayratachiychu      V;IMP;NEG;2;SG\n",
       "986     ch'isiyay         ch'isiyanqa          V;FUT;3;SG\n",
       "988  anchaykachay  anchaykacharqaniku  V;PST;FH;1+EXCL;PL\n",
       "996         rimay             rimanku          V;PRS;3;PL\n",
       "\n",
       "[144 rows x 3 columns]"
      ]
     },
     "execution_count": 8,
     "metadata": {},
     "output_type": "execute_result"
    }
   ],
   "source": [
    "quechua_dev_verbs = quechua_dev[verbs_index]\n",
    "quechua_dev_verbs"
   ]
  },
  {
   "cell_type": "code",
   "execution_count": 9,
   "metadata": {},
   "outputs": [
    {
     "data": {
      "text/plain": [
       "True"
      ]
     },
     "execution_count": 9,
     "metadata": {},
     "output_type": "execute_result"
    }
   ],
   "source": [
    "# All the lemmas are in infinitive, which always ends with \"-y\"\n",
    "all(quechua_dev_verbs[0].apply(lambda st: st.endswith(\"y\")))"
   ]
  },
  {
   "cell_type": "code",
   "execution_count": 10,
   "metadata": {},
   "outputs": [
    {
     "data": {
      "text/plain": [
       "{'1',\n",
       " '1+EXCL',\n",
       " '1+INCL',\n",
       " '2',\n",
       " '3',\n",
       " 'AGT',\n",
       " 'FH',\n",
       " 'FUT',\n",
       " 'IMP',\n",
       " 'NEG',\n",
       " 'NFH',\n",
       " 'NFIN',\n",
       " 'PL',\n",
       " 'POS',\n",
       " 'PRS',\n",
       " 'PST',\n",
       " 'SG',\n",
       " 'V'}"
      ]
     },
     "execution_count": 10,
     "metadata": {},
     "output_type": "execute_result"
    }
   ],
   "source": [
    "# see which tags are used for verbs\n",
    "tags = \";\".join(\n",
    "    list(quechua_dev_verbs[2])\n",
    ")\n",
    "tags = set(tags.split(\";\"))\n",
    "tags"
   ]
  },
  {
   "cell_type": "code",
   "execution_count": 12,
   "metadata": {},
   "outputs": [
    {
     "data": {
      "text/plain": [
       "37"
      ]
     },
     "execution_count": 12,
     "metadata": {},
     "output_type": "execute_result"
    }
   ],
   "source": [
    "# how many different tagsets are there?\n",
    "len(set(list(quechua_dev_verbs[2])))"
   ]
  },
  {
   "cell_type": "code",
   "execution_count": 13,
   "metadata": {},
   "outputs": [
    {
     "data": {
      "text/plain": [
       "['V;FUT;1+INCL;PL',\n",
       " 'V;FUT;1;SG',\n",
       " 'V;FUT;2;PL',\n",
       " 'V;FUT;2;SG',\n",
       " 'V;FUT;3;PL',\n",
       " 'V;FUT;3;SG',\n",
       " 'V;IMP;NEG;2;PL',\n",
       " 'V;IMP;NEG;2;SG',\n",
       " 'V;IMP;NEG;3;PL',\n",
       " 'V;IMP;NEG;3;SG',\n",
       " 'V;IMP;POS;2;PL',\n",
       " 'V;IMP;POS;2;SG',\n",
       " 'V;IMP;POS;3;PL',\n",
       " 'V;IMP;POS;3;SG',\n",
       " 'V;NFIN',\n",
       " 'V;NFIN;AGT',\n",
       " 'V;PRS;1+EXCL;PL',\n",
       " 'V;PRS;1+INCL;PL',\n",
       " 'V;PRS;1;SG',\n",
       " 'V;PRS;2;PL',\n",
       " 'V;PRS;2;SG',\n",
       " 'V;PRS;3;PL',\n",
       " 'V;PRS;3;SG',\n",
       " 'V;PST;FH;1+EXCL;PL',\n",
       " 'V;PST;FH;1+INCL;PL',\n",
       " 'V;PST;FH;1;SG',\n",
       " 'V;PST;FH;2;PL',\n",
       " 'V;PST;FH;2;SG',\n",
       " 'V;PST;FH;3;PL',\n",
       " 'V;PST;FH;3;SG',\n",
       " 'V;PST;NFH;1+EXCL;PL',\n",
       " 'V;PST;NFH;1+INCL;PL',\n",
       " 'V;PST;NFH;1;SG',\n",
       " 'V;PST;NFH;2;PL',\n",
       " 'V;PST;NFH;2;SG',\n",
       " 'V;PST;NFH;3;PL',\n",
       " 'V;PST;NFH;3;SG']"
      ]
     },
     "execution_count": 13,
     "metadata": {},
     "output_type": "execute_result"
    }
   ],
   "source": [
    "tags_list = list(set(list(quechua_dev_verbs[2])))\n",
    "tags_list.sort()\n",
    "tags_list"
   ]
  },
  {
   "cell_type": "code",
   "execution_count": 14,
   "metadata": {},
   "outputs": [
    {
     "data": {
      "text/html": [
       "<div>\n",
       "<style scoped>\n",
       "    .dataframe tbody tr th:only-of-type {\n",
       "        vertical-align: middle;\n",
       "    }\n",
       "\n",
       "    .dataframe tbody tr th {\n",
       "        vertical-align: top;\n",
       "    }\n",
       "\n",
       "    .dataframe thead th {\n",
       "        text-align: right;\n",
       "    }\n",
       "</style>\n",
       "<table border=\"1\" class=\"dataframe\">\n",
       "  <thead>\n",
       "    <tr style=\"text-align: right;\">\n",
       "      <th></th>\n",
       "      <th>0</th>\n",
       "      <th>1</th>\n",
       "      <th>2</th>\n",
       "    </tr>\n",
       "  </thead>\n",
       "  <tbody>\n",
       "    <tr>\n",
       "      <th>670</th>\n",
       "      <td>añaychay</td>\n",
       "      <td>añaychasunchik</td>\n",
       "      <td>V;FUT;1+INCL;PL</td>\n",
       "    </tr>\n",
       "    <tr>\n",
       "      <th>440</th>\n",
       "      <td>q'apay</td>\n",
       "      <td>q'apasaq</td>\n",
       "      <td>V;FUT;1;SG</td>\n",
       "    </tr>\n",
       "    <tr>\n",
       "      <th>191</th>\n",
       "      <td>sinchiyay</td>\n",
       "      <td>sinchiyankichik</td>\n",
       "      <td>V;FUT;2;PL</td>\n",
       "    </tr>\n",
       "    <tr>\n",
       "      <th>227</th>\n",
       "      <td>allay</td>\n",
       "      <td>allanki</td>\n",
       "      <td>V;FUT;2;SG</td>\n",
       "    </tr>\n",
       "    <tr>\n",
       "      <th>77</th>\n",
       "      <td>hamuy</td>\n",
       "      <td>hamunqaku</td>\n",
       "      <td>V;FUT;3;PL</td>\n",
       "    </tr>\n",
       "    <tr>\n",
       "      <th>661</th>\n",
       "      <td>qunqay</td>\n",
       "      <td>qunqanqa</td>\n",
       "      <td>V;FUT;3;SG</td>\n",
       "    </tr>\n",
       "    <tr>\n",
       "      <th>857</th>\n",
       "      <td>wikch'uy</td>\n",
       "      <td>amawikch'uychikchu</td>\n",
       "      <td>V;IMP;NEG;2;PL</td>\n",
       "    </tr>\n",
       "    <tr>\n",
       "      <th>518</th>\n",
       "      <td>chapatiyay</td>\n",
       "      <td>amachapatiyaychu</td>\n",
       "      <td>V;IMP;NEG;2;SG</td>\n",
       "    </tr>\n",
       "    <tr>\n",
       "      <th>579</th>\n",
       "      <td>tiyamuy</td>\n",
       "      <td>amatiyamuchunkuchu</td>\n",
       "      <td>V;IMP;NEG;3;PL</td>\n",
       "    </tr>\n",
       "    <tr>\n",
       "      <th>788</th>\n",
       "      <td>chimpay</td>\n",
       "      <td>amachimpachunchu</td>\n",
       "      <td>V;IMP;NEG;3;SG</td>\n",
       "    </tr>\n",
       "    <tr>\n",
       "      <th>15</th>\n",
       "      <td>t'ustuy</td>\n",
       "      <td>t'ustuychik</td>\n",
       "      <td>V;IMP;POS;2;PL</td>\n",
       "    </tr>\n",
       "    <tr>\n",
       "      <th>804</th>\n",
       "      <td>huhyay</td>\n",
       "      <td>huhyay</td>\n",
       "      <td>V;IMP;POS;2;SG</td>\n",
       "    </tr>\n",
       "    <tr>\n",
       "      <th>539</th>\n",
       "      <td>hamurpay</td>\n",
       "      <td>hamurpachunku</td>\n",
       "      <td>V;IMP;POS;3;PL</td>\n",
       "    </tr>\n",
       "    <tr>\n",
       "      <th>317</th>\n",
       "      <td>suyay</td>\n",
       "      <td>suyachun</td>\n",
       "      <td>V;IMP;POS;3;SG</td>\n",
       "    </tr>\n",
       "    <tr>\n",
       "      <th>583</th>\n",
       "      <td>wañuy</td>\n",
       "      <td>wañuy</td>\n",
       "      <td>V;NFIN</td>\n",
       "    </tr>\n",
       "    <tr>\n",
       "      <th>683</th>\n",
       "      <td>yanay</td>\n",
       "      <td>yanaq</td>\n",
       "      <td>V;NFIN;AGT</td>\n",
       "    </tr>\n",
       "    <tr>\n",
       "      <th>258</th>\n",
       "      <td>ch'utiy</td>\n",
       "      <td>ch'utiyku</td>\n",
       "      <td>V;PRS;1+EXCL;PL</td>\n",
       "    </tr>\n",
       "    <tr>\n",
       "      <th>174</th>\n",
       "      <td>yarqay</td>\n",
       "      <td>yarqanchik</td>\n",
       "      <td>V;PRS;1+INCL;PL</td>\n",
       "    </tr>\n",
       "    <tr>\n",
       "      <th>194</th>\n",
       "      <td>chinruykachiy</td>\n",
       "      <td>chinruykachini</td>\n",
       "      <td>V;PRS;1;SG</td>\n",
       "    </tr>\n",
       "    <tr>\n",
       "      <th>207</th>\n",
       "      <td>thuqay</td>\n",
       "      <td>thuqankichik</td>\n",
       "      <td>V;PRS;2;PL</td>\n",
       "    </tr>\n",
       "    <tr>\n",
       "      <th>700</th>\n",
       "      <td>ismuy</td>\n",
       "      <td>ismunki</td>\n",
       "      <td>V;PRS;2;SG</td>\n",
       "    </tr>\n",
       "    <tr>\n",
       "      <th>283</th>\n",
       "      <td>ch'ipuy</td>\n",
       "      <td>ch'ipunku</td>\n",
       "      <td>V;PRS;3;PL</td>\n",
       "    </tr>\n",
       "    <tr>\n",
       "      <th>833</th>\n",
       "      <td>puriy</td>\n",
       "      <td>purin</td>\n",
       "      <td>V;PRS;3;SG</td>\n",
       "    </tr>\n",
       "    <tr>\n",
       "      <th>988</th>\n",
       "      <td>anchaykachay</td>\n",
       "      <td>anchaykacharqaniku</td>\n",
       "      <td>V;PST;FH;1+EXCL;PL</td>\n",
       "    </tr>\n",
       "    <tr>\n",
       "      <th>882</th>\n",
       "      <td>phukuy</td>\n",
       "      <td>phukurqanchik</td>\n",
       "      <td>V;PST;FH;1+INCL;PL</td>\n",
       "    </tr>\n",
       "    <tr>\n",
       "      <th>762</th>\n",
       "      <td>aypuriy</td>\n",
       "      <td>aypurirqani</td>\n",
       "      <td>V;PST;FH;1;SG</td>\n",
       "    </tr>\n",
       "    <tr>\n",
       "      <th>705</th>\n",
       "      <td>rawray</td>\n",
       "      <td>rawrarqankichik</td>\n",
       "      <td>V;PST;FH;2;PL</td>\n",
       "    </tr>\n",
       "    <tr>\n",
       "      <th>610</th>\n",
       "      <td>aspiy</td>\n",
       "      <td>aspirqanki</td>\n",
       "      <td>V;PST;FH;2;SG</td>\n",
       "    </tr>\n",
       "    <tr>\n",
       "      <th>584</th>\n",
       "      <td>tamyay</td>\n",
       "      <td>tamyarqanku</td>\n",
       "      <td>V;PST;FH;3;PL</td>\n",
       "    </tr>\n",
       "    <tr>\n",
       "      <th>764</th>\n",
       "      <td>wanay</td>\n",
       "      <td>wanarqan</td>\n",
       "      <td>V;PST;FH;3;SG</td>\n",
       "    </tr>\n",
       "    <tr>\n",
       "      <th>732</th>\n",
       "      <td>pallay</td>\n",
       "      <td>pallasqaniku</td>\n",
       "      <td>V;PST;NFH;1+EXCL;PL</td>\n",
       "    </tr>\n",
       "    <tr>\n",
       "      <th>130</th>\n",
       "      <td>achalachiy</td>\n",
       "      <td>achalachisqanchik</td>\n",
       "      <td>V;PST;NFH;1+INCL;PL</td>\n",
       "    </tr>\n",
       "    <tr>\n",
       "      <th>746</th>\n",
       "      <td>ichiy</td>\n",
       "      <td>ichisqani</td>\n",
       "      <td>V;PST;NFH;1;SG</td>\n",
       "    </tr>\n",
       "    <tr>\n",
       "      <th>299</th>\n",
       "      <td>hawiy</td>\n",
       "      <td>hawisqankichik</td>\n",
       "      <td>V;PST;NFH;2;PL</td>\n",
       "    </tr>\n",
       "    <tr>\n",
       "      <th>244</th>\n",
       "      <td>ch'ullchuy</td>\n",
       "      <td>ch'ullchusqanki</td>\n",
       "      <td>V;PST;NFH;2;SG</td>\n",
       "    </tr>\n",
       "    <tr>\n",
       "      <th>262</th>\n",
       "      <td>maqay</td>\n",
       "      <td>maqasqanku</td>\n",
       "      <td>V;PST;NFH;3;PL</td>\n",
       "    </tr>\n",
       "    <tr>\n",
       "      <th>655</th>\n",
       "      <td>qispichiy</td>\n",
       "      <td>qispichisqan</td>\n",
       "      <td>V;PST;NFH;3;SG</td>\n",
       "    </tr>\n",
       "  </tbody>\n",
       "</table>\n",
       "</div>"
      ],
      "text/plain": [
       "                 0                   1                    2\n",
       "670       añaychay      añaychasunchik      V;FUT;1+INCL;PL\n",
       "440         q'apay            q'apasaq           V;FUT;1;SG\n",
       "191      sinchiyay     sinchiyankichik           V;FUT;2;PL\n",
       "227          allay             allanki           V;FUT;2;SG\n",
       "77           hamuy           hamunqaku           V;FUT;3;PL\n",
       "661         qunqay            qunqanqa           V;FUT;3;SG\n",
       "857       wikch'uy  amawikch'uychikchu       V;IMP;NEG;2;PL\n",
       "518     chapatiyay    amachapatiyaychu       V;IMP;NEG;2;SG\n",
       "579        tiyamuy  amatiyamuchunkuchu       V;IMP;NEG;3;PL\n",
       "788        chimpay    amachimpachunchu       V;IMP;NEG;3;SG\n",
       "15         t'ustuy         t'ustuychik       V;IMP;POS;2;PL\n",
       "804         huhyay              huhyay       V;IMP;POS;2;SG\n",
       "539       hamurpay       hamurpachunku       V;IMP;POS;3;PL\n",
       "317          suyay            suyachun       V;IMP;POS;3;SG\n",
       "583          wañuy               wañuy               V;NFIN\n",
       "683          yanay               yanaq           V;NFIN;AGT\n",
       "258        ch'utiy           ch'utiyku      V;PRS;1+EXCL;PL\n",
       "174         yarqay          yarqanchik      V;PRS;1+INCL;PL\n",
       "194  chinruykachiy      chinruykachini           V;PRS;1;SG\n",
       "207         thuqay        thuqankichik           V;PRS;2;PL\n",
       "700          ismuy             ismunki           V;PRS;2;SG\n",
       "283        ch'ipuy           ch'ipunku           V;PRS;3;PL\n",
       "833          puriy               purin           V;PRS;3;SG\n",
       "988   anchaykachay  anchaykacharqaniku   V;PST;FH;1+EXCL;PL\n",
       "882         phukuy       phukurqanchik   V;PST;FH;1+INCL;PL\n",
       "762        aypuriy         aypurirqani        V;PST;FH;1;SG\n",
       "705         rawray     rawrarqankichik        V;PST;FH;2;PL\n",
       "610          aspiy          aspirqanki        V;PST;FH;2;SG\n",
       "584         tamyay         tamyarqanku        V;PST;FH;3;PL\n",
       "764          wanay            wanarqan        V;PST;FH;3;SG\n",
       "732         pallay        pallasqaniku  V;PST;NFH;1+EXCL;PL\n",
       "130     achalachiy   achalachisqanchik  V;PST;NFH;1+INCL;PL\n",
       "746          ichiy           ichisqani       V;PST;NFH;1;SG\n",
       "299          hawiy      hawisqankichik       V;PST;NFH;2;PL\n",
       "244     ch'ullchuy     ch'ullchusqanki       V;PST;NFH;2;SG\n",
       "262          maqay          maqasqanku       V;PST;NFH;3;PL\n",
       "655      qispichiy        qispichisqan       V;PST;NFH;3;SG"
      ]
     },
     "execution_count": 14,
     "metadata": {},
     "output_type": "execute_result"
    }
   ],
   "source": [
    "# some examples\n",
    "\n",
    "quechua_dev_verbs.groupby(quechua_dev_verbs[2]).sample(1)"
   ]
  },
  {
   "cell_type": "code",
   "execution_count": 16,
   "metadata": {},
   "outputs": [
    {
     "data": {
      "text/html": [
       "<div>\n",
       "<style scoped>\n",
       "    .dataframe tbody tr th:only-of-type {\n",
       "        vertical-align: middle;\n",
       "    }\n",
       "\n",
       "    .dataframe tbody tr th {\n",
       "        vertical-align: top;\n",
       "    }\n",
       "\n",
       "    .dataframe thead th {\n",
       "        text-align: right;\n",
       "    }\n",
       "</style>\n",
       "<table border=\"1\" class=\"dataframe\">\n",
       "  <thead>\n",
       "    <tr style=\"text-align: right;\">\n",
       "      <th></th>\n",
       "      <th>root</th>\n",
       "      <th>inflection</th>\n",
       "      <th>tags</th>\n",
       "    </tr>\n",
       "  </thead>\n",
       "  <tbody>\n",
       "    <tr>\n",
       "      <th>6</th>\n",
       "      <td>hunt'ay</td>\n",
       "      <td>hunt'aychik</td>\n",
       "      <td>V;IMP;POS;2;PL</td>\n",
       "    </tr>\n",
       "    <tr>\n",
       "      <th>12</th>\n",
       "      <td>tiyamuy</td>\n",
       "      <td>tiyamuq</td>\n",
       "      <td>V;NFIN;AGT</td>\n",
       "    </tr>\n",
       "    <tr>\n",
       "      <th>15</th>\n",
       "      <td>t'ustuy</td>\n",
       "      <td>t'ustuychik</td>\n",
       "      <td>V;IMP;POS;2;PL</td>\n",
       "    </tr>\n",
       "    <tr>\n",
       "      <th>16</th>\n",
       "      <td>ch'isiyay</td>\n",
       "      <td>ch'isiyarqanku</td>\n",
       "      <td>V;PST;FH;3;PL</td>\n",
       "    </tr>\n",
       "    <tr>\n",
       "      <th>33</th>\n",
       "      <td>pisipay</td>\n",
       "      <td>pisipanqa</td>\n",
       "      <td>V;FUT;3;SG</td>\n",
       "    </tr>\n",
       "  </tbody>\n",
       "</table>\n",
       "</div>"
      ],
      "text/plain": [
       "         root      inflection            tags\n",
       "6     hunt'ay     hunt'aychik  V;IMP;POS;2;PL\n",
       "12    tiyamuy         tiyamuq      V;NFIN;AGT\n",
       "15    t'ustuy     t'ustuychik  V;IMP;POS;2;PL\n",
       "16  ch'isiyay  ch'isiyarqanku   V;PST;FH;3;PL\n",
       "33    pisipay       pisipanqa      V;FUT;3;SG"
      ]
     },
     "execution_count": 16,
     "metadata": {},
     "output_type": "execute_result"
    }
   ],
   "source": [
    "# add columns\n",
    "quechua_dev_verbs.columns = ['root', 'inflection', 'tags']\n",
    "quechua_dev_verbs.head()"
   ]
  },
  {
   "cell_type": "markdown",
   "metadata": {},
   "source": [
    "# make a column of root + tags"
   ]
  },
  {
   "cell_type": "code",
   "execution_count": 22,
   "metadata": {},
   "outputs": [
    {
     "name": "stderr",
     "output_type": "stream",
     "text": [
      "/tmp/ipykernel_9896/613680803.py:2: SettingWithCopyWarning: \n",
      "A value is trying to be set on a copy of a slice from a DataFrame.\n",
      "Try using .loc[row_indexer,col_indexer] = value instead\n",
      "\n",
      "See the caveats in the documentation: https://pandas.pydata.org/pandas-docs/stable/user_guide/indexing.html#returning-a-view-versus-a-copy\n",
      "  quechua_dev_verbs['root_and_tags'] = (\n"
     ]
    }
   ],
   "source": [
    "# put the tagset in brackets\n",
    "quechua_dev_verbs['root_and_tags'] = (\n",
    "    [root + \"[\" + tag + \"]\" for root, tag in zip(list(quechua_dev_verbs['root']), list(quechua_dev_verbs['tags']))]\n",
    ")"
   ]
  },
  {
   "cell_type": "code",
   "execution_count": 23,
   "metadata": {},
   "outputs": [
    {
     "data": {
      "text/html": [
       "<div>\n",
       "<style scoped>\n",
       "    .dataframe tbody tr th:only-of-type {\n",
       "        vertical-align: middle;\n",
       "    }\n",
       "\n",
       "    .dataframe tbody tr th {\n",
       "        vertical-align: top;\n",
       "    }\n",
       "\n",
       "    .dataframe thead th {\n",
       "        text-align: right;\n",
       "    }\n",
       "</style>\n",
       "<table border=\"1\" class=\"dataframe\">\n",
       "  <thead>\n",
       "    <tr style=\"text-align: right;\">\n",
       "      <th></th>\n",
       "      <th>root</th>\n",
       "      <th>inflection</th>\n",
       "      <th>tags</th>\n",
       "      <th>root_and_tags</th>\n",
       "    </tr>\n",
       "  </thead>\n",
       "  <tbody>\n",
       "    <tr>\n",
       "      <th>6</th>\n",
       "      <td>hunt'ay</td>\n",
       "      <td>hunt'aychik</td>\n",
       "      <td>V;IMP;POS;2;PL</td>\n",
       "      <td>hunt'ay[V;IMP;POS;2;PL]</td>\n",
       "    </tr>\n",
       "    <tr>\n",
       "      <th>12</th>\n",
       "      <td>tiyamuy</td>\n",
       "      <td>tiyamuq</td>\n",
       "      <td>V;NFIN;AGT</td>\n",
       "      <td>tiyamuy[V;NFIN;AGT]</td>\n",
       "    </tr>\n",
       "    <tr>\n",
       "      <th>15</th>\n",
       "      <td>t'ustuy</td>\n",
       "      <td>t'ustuychik</td>\n",
       "      <td>V;IMP;POS;2;PL</td>\n",
       "      <td>t'ustuy[V;IMP;POS;2;PL]</td>\n",
       "    </tr>\n",
       "    <tr>\n",
       "      <th>16</th>\n",
       "      <td>ch'isiyay</td>\n",
       "      <td>ch'isiyarqanku</td>\n",
       "      <td>V;PST;FH;3;PL</td>\n",
       "      <td>ch'isiyay[V;PST;FH;3;PL]</td>\n",
       "    </tr>\n",
       "    <tr>\n",
       "      <th>33</th>\n",
       "      <td>pisipay</td>\n",
       "      <td>pisipanqa</td>\n",
       "      <td>V;FUT;3;SG</td>\n",
       "      <td>pisipay[V;FUT;3;SG]</td>\n",
       "    </tr>\n",
       "  </tbody>\n",
       "</table>\n",
       "</div>"
      ],
      "text/plain": [
       "         root      inflection            tags             root_and_tags\n",
       "6     hunt'ay     hunt'aychik  V;IMP;POS;2;PL   hunt'ay[V;IMP;POS;2;PL]\n",
       "12    tiyamuy         tiyamuq      V;NFIN;AGT       tiyamuy[V;NFIN;AGT]\n",
       "15    t'ustuy     t'ustuychik  V;IMP;POS;2;PL   t'ustuy[V;IMP;POS;2;PL]\n",
       "16  ch'isiyay  ch'isiyarqanku   V;PST;FH;3;PL  ch'isiyay[V;PST;FH;3;PL]\n",
       "33    pisipay       pisipanqa      V;FUT;3;SG       pisipay[V;FUT;3;SG]"
      ]
     },
     "execution_count": 23,
     "metadata": {},
     "output_type": "execute_result"
    }
   ],
   "source": [
    "quechua_dev_verbs.head()"
   ]
  },
  {
   "cell_type": "markdown",
   "metadata": {},
   "source": [
    "# save"
   ]
  },
  {
   "cell_type": "code",
   "execution_count": 24,
   "metadata": {},
   "outputs": [],
   "source": [
    "# first sort alphabetically\n",
    "quechua_dev_verbs = quechua_dev_verbs.sort_values('root_and_tags')"
   ]
  },
  {
   "cell_type": "code",
   "execution_count": 27,
   "metadata": {},
   "outputs": [],
   "source": [
    "#save the dataset\n",
    "quechua_dev_verbs.to_csv(\n",
    "    \"quechua_dev_verbs.csv\", \n",
    "    index=False,\n",
    ")"
   ]
  },
  {
   "cell_type": "code",
   "execution_count": 33,
   "metadata": {},
   "outputs": [],
   "source": [
    "# save the roots\n",
    "quechua_dev_verbs['root'].to_csv('quechua_lemmas.txt', header=None, index=False)"
   ]
  }
 ],
 "metadata": {
  "kernelspec": {
   "display_name": "Python 3.8.10 ('dsvenv')",
   "language": "python",
   "name": "python3"
  },
  "language_info": {
   "codemirror_mode": {
    "name": "ipython",
    "version": 3
   },
   "file_extension": ".py",
   "mimetype": "text/x-python",
   "name": "python",
   "nbconvert_exporter": "python",
   "pygments_lexer": "ipython3",
   "version": "3.8.10"
  },
  "orig_nbformat": 4,
  "vscode": {
   "interpreter": {
    "hash": "997ed75ad1253b081b4bd25360b6bcbfad76026706cda5a0c094d1371ade530f"
   }
  }
 },
 "nbformat": 4,
 "nbformat_minor": 2
}
